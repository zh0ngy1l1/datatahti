{
 "cells": [
  {
   "cell_type": "code",
   "execution_count": null,
   "metadata": {},
   "outputs": [],
   "source": [
    "from func import *\n",
    "\n",
    "N = 1000000\n",
    "totient = [0] * (N+1)\n",
    "sigma = [0] * (N+1)\n",
    "\n",
    "with open(\"totient_and_sigma.txt\") as h:\n",
    "    for line in h.read().split(\"\\n\"):\n",
    "        a, b, c = map(int, line.split(\" \"))\n",
    "        totient[a] = b\n",
    "        sigma[a] = c\n",
    "        if a == N: break"
   ]
  },
  {
   "cell_type": "code",
   "execution_count": null,
   "metadata": {},
   "outputs": [],
   "source": [
    "import math\n",
    "c = 6 / math.pi**2"
   ]
  },
  {
   "cell_type": "code",
   "execution_count": null,
   "metadata": {},
   "outputs": [],
   "source": [
    "import numpy as np\n",
    "\n",
    "prod = np.array([totient[i]*sigma[i] for i in range(N+1)])\n",
    "lb = np.array([i**2*c for i in range(N+1)])\n",
    "ub = np.array([i**2 for i in range(N+1)])\n"
   ]
  },
  {
   "cell_type": "code",
   "execution_count": null,
   "metadata": {},
   "outputs": [],
   "source": [
    "import matplotlib.pyplot as plt\n",
    "plt.figure(figsize=(12, 8), dpi=300)\n",
    "\n",
    "plt.plot(lb)\n",
    "plt.plot(ub)\n",
    "plt.plot(prod, ',')\n",
    "plt.show()"
   ]
  }
 ],
 "metadata": {
  "kernelspec": {
   "display_name": "Python 3",
   "language": "python",
   "name": "python3"
  },
  "language_info": {
   "codemirror_mode": {
    "name": "ipython",
    "version": 3
   },
   "file_extension": ".py",
   "mimetype": "text/x-python",
   "name": "python",
   "nbconvert_exporter": "python",
   "pygments_lexer": "ipython3",
   "version": "3.10.12"
  }
 },
 "nbformat": 4,
 "nbformat_minor": 2
}
