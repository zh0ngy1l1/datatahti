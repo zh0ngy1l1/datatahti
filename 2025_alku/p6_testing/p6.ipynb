{
 "cells": [
  {
   "cell_type": "code",
   "execution_count": 142,
   "metadata": {},
   "outputs": [],
   "source": [
    "import generate_input\n",
    "\n",
    "#generate_input.run()\n",
    "\n",
    "with open(\"input.txt\", \"r\", encoding=\"utf-8\") as f:\n",
    "    N, M = map(int, f.readline().split(\" \"))\n",
    "    s = list(map(int, f.readline().split(\" \")))\n",
    "s.sort(reverse=True)\n",
    "m = s.copy()\n",
    "\n",
    "global_min = s[-1]\n",
    "pieces = [1]*N"
   ]
  },
  {
   "cell_type": "code",
   "execution_count": 143,
   "metadata": {},
   "outputs": [],
   "source": [
    "def generate_sequences(l, m):\n",
    "    if l == 1:\n",
    "        return [[m]]  # Single element sequence with sum m\n",
    "    \n",
    "    sequences = []\n",
    "    for i in range(m + 1):  # Allow elements from 0 to m\n",
    "        for current in generate_sequences(l - 1, m - i):\n",
    "            sequences.append([i] + current)\n",
    "    \n",
    "    if l == N: return [[i+1 for i in seq] for seq in sequences]\n",
    "    return sequences"
   ]
  },
  {
   "cell_type": "code",
   "execution_count": 144,
   "metadata": {},
   "outputs": [],
   "source": [
    "wrong_answer = \"\"\n",
    "for _ in range(M):\n",
    "    #print(\"s:\", s)\n",
    "    #print(\"p:\", pieces)\n",
    "    #print(\"m:\", m)\n",
    "\n",
    "    #find the cut minimizing max\n",
    "    minmax = 0\n",
    "    for i in range(N):\n",
    "        if (m[i] > m[minmax]): minmax = i\n",
    "        \n",
    "    #find the index maximizing min\n",
    "    maxmin = 0\n",
    "    for i in range(N):\n",
    "        if (s[i]*(pieces[maxmin] + 1) > s[maxmin]*(pieces[i] + 1)): maxmin = i\n",
    "    \n",
    "    #find max_index in the first scenario\n",
    "    max_index = 1 if minmax == 0 else 0\n",
    "    max_value = (s[minmax]-1)//(pieces[minmax]+1) + 1\n",
    "    for i in range(N):\n",
    "        if (i == minmax): continue\n",
    "        \n",
    "        if (m[i] >= m[max_index]):  \n",
    "            if (m[i] > max_value):\n",
    "                max_index = i\n",
    "                max_value = m[max_index]\n",
    "    \n",
    "    #calculate the difference\n",
    "    d1 = max_value - min(global_min, s[minmax]//(pieces[minmax]+1))\n",
    "    #print(f\"minmax: {minmax}\\t| s[minmax]: {s[minmax]}\\t| m[minmax]: {m[minmax]}\\t| greater: {(s[minmax]-1)//(pieces[minmax]+1) + 1}\\t| smaller: {s[minmax]//(pieces[minmax]+1)}\\t| max: {max_value}\\t| min: {min(global_min, s[minmax]//(pieces[minmax]+1))}\")\n",
    "\n",
    "\n",
    "    #find max_index in the second scenario\n",
    "    max_index = 1 if minmax == 0 else 0\n",
    "    max_value = (s[maxmin]-1)//(pieces[maxmin]+1) + 1\n",
    "    for i in range(N):\n",
    "        if (i == maxmin): continue\n",
    "        \n",
    "        if (m[i] >= m[max_index] and m[i] > max_value): \n",
    "            max_index = i\n",
    "            max_value = m[max_index]\n",
    "    \n",
    "    #calculate the difference\n",
    "    d2 = max_value - min(global_min, s[maxmin]//(pieces[maxmin]+1))\n",
    "    #print(f\"maxmin: {maxmin}\\t| s[maxmin]: {s[maxmin]}\\t| m[maxmin]: {m[maxmin]}\\t| greater: {(s[maxmin]-1)//(pieces[maxmin]+1) + 1}\\t| smaller: {s[maxmin]//(pieces[maxmin]+1)}\\t| max: {max_value}\\t| min: {min(global_min, s[maxmin]//(pieces[maxmin]+1))}\")\n",
    "    \n",
    "    if d1 > d2:\n",
    "        wrong_answer += f\"{d2} \"\n",
    "        #print(f\"maximizing min is better. (d1, d2): ({d1}, {d2})\\n\")\n",
    "        minmax = maxmin\n",
    "    else:\n",
    "        wrong_answer += f\"{d1} \"\n",
    "        #print(f\"minimizing max is better. (d1, d2): ({d1}, {d2})\\n\")\n",
    "    #cut the piece\n",
    "    pieces[minmax] += 1\n",
    "    m[minmax] = (s[minmax]-1)//pieces[minmax] + 1\n",
    "    global_min = min(global_min, s[minmax]//pieces[minmax])    \n"
   ]
  },
  {
   "cell_type": "code",
   "execution_count": 145,
   "metadata": {},
   "outputs": [],
   "source": [
    "right_answer = \"\"\n",
    "for k in range(1, M+1):\n",
    "    d_min = 10**9\n",
    "    for pieces in generate_sequences(N, k):\n",
    "        max_val = 0\n",
    "        min_val = 10**9\n",
    "        for i in range(N):\n",
    "            max_val = max(max_val, (s[i]-1)//pieces[i] + 1)\n",
    "            min_val = min(min_val, s[i]//pieces[i])\n",
    "        d_min = min(d_min, max_val-min_val)\n",
    "    right_answer += f\"{d_min} \""
   ]
  },
  {
   "cell_type": "code",
   "execution_count": 146,
   "metadata": {},
   "outputs": [
    {
     "name": "stdout",
     "output_type": "stream",
     "text": [
      "18 17 33 25 10 3 9 13 7 2 4 6 5 2 2 \n",
      "18 17 33 37 10 3 9 13 7 2 4 6 5 2 2 \n"
     ]
    },
    {
     "ename": "Exception",
     "evalue": "Here's the mistake!",
     "output_type": "error",
     "traceback": [
      "\u001b[0;31m---------------------------------------------------------------------------\u001b[0m",
      "\u001b[0;31mException\u001b[0m                                 Traceback (most recent call last)",
      "Cell \u001b[0;32mIn[146], line 4\u001b[0m\n\u001b[1;32m      2\u001b[0m \u001b[38;5;28mprint\u001b[39m(wrong_answer)\n\u001b[1;32m      3\u001b[0m \u001b[38;5;28;01mif\u001b[39;00m right_answer \u001b[38;5;241m!=\u001b[39m wrong_answer:\n\u001b[0;32m----> 4\u001b[0m     \u001b[38;5;28;01mraise\u001b[39;00m \u001b[38;5;167;01mException\u001b[39;00m(\u001b[38;5;124m\"\u001b[39m\u001b[38;5;124mHere\u001b[39m\u001b[38;5;124m'\u001b[39m\u001b[38;5;124ms the mistake!\u001b[39m\u001b[38;5;124m\"\u001b[39m)\n",
      "\u001b[0;31mException\u001b[0m: Here's the mistake!"
     ]
    }
   ],
   "source": [
    "\n",
    "print(right_answer)\n",
    "print(wrong_answer)\n",
    "if right_answer != wrong_answer:\n",
    "    raise Exception(\"Here's the mistake!\")"
   ]
  }
 ],
 "metadata": {
  "kernelspec": {
   "display_name": "Python 3",
   "language": "python",
   "name": "python3"
  },
  "language_info": {
   "codemirror_mode": {
    "name": "ipython",
    "version": 3
   },
   "file_extension": ".py",
   "mimetype": "text/x-python",
   "name": "python",
   "nbconvert_exporter": "python",
   "pygments_lexer": "ipython3",
   "version": "3.10.6"
  }
 },
 "nbformat": 4,
 "nbformat_minor": 2
}
